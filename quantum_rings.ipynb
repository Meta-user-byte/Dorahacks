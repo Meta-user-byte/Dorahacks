{
  "nbformat": 4,
  "nbformat_minor": 0,
  "metadata": {
    "colab": {
      "provenance": [],
      "include_colab_link": true
    },
    "kernelspec": {
      "name": "python3",
      "display_name": "Python 3"
    },
    "language_info": {
      "name": "python"
    }
  },
  "cells": [
    {
      "cell_type": "markdown",
      "metadata": {
        "id": "view-in-github",
        "colab_type": "text"
      },
      "source": [
        "<a href=\"https://colab.research.google.com/github/Meta-user-byte/Dorahacks/blob/main/quantum_rings.ipynb\" target=\"_parent\"><img src=\"https://colab.research.google.com/assets/colab-badge.svg\" alt=\"Open In Colab\"/></a>"
      ]
    },
    {
      "cell_type": "code",
      "execution_count": null,
      "metadata": {
        "colab": {
          "base_uri": "https://localhost:8080/"
        },
        "id": "Ff3XJscgD9CN",
        "outputId": "9d2faf7a-d59b-403b-91eb-a604662d2092",
        "collapsed": true
      },
      "outputs": [
        {
          "output_type": "stream",
          "name": "stdout",
          "text": [
            "Collecting QuantumRingsLib\n",
            "  Downloading QuantumRingsLib-0.9.11-cp311-cp311-manylinux_2_34_x86_64.whl.metadata (21 kB)\n",
            "Downloading QuantumRingsLib-0.9.11-cp311-cp311-manylinux_2_34_x86_64.whl (1.5 MB)\n",
            "\u001b[2K   \u001b[90m━━━━━━━━━━━━━━━━━━━━━━━━━━━━━━━━━━━━━━━━\u001b[0m \u001b[32m1.5/1.5 MB\u001b[0m \u001b[31m15.3 MB/s\u001b[0m eta \u001b[36m0:00:00\u001b[0m\n",
            "\u001b[?25hInstalling collected packages: QuantumRingsLib\n",
            "Successfully installed QuantumRingsLib-0.9.11\n"
          ]
        }
      ],
      "source": [
        "!pip install QuantumRingsLib\n"
      ]
    },
    {
      "cell_type": "code",
      "source": [
        "!pip install qiskit==1.3.1"
      ],
      "metadata": {
        "colab": {
          "base_uri": "https://localhost:8080/"
        },
        "collapsed": true,
        "id": "AChnL_cfELGp",
        "outputId": "df25dee8-a368-45f9-c338-cbc4b93a2f0e"
      },
      "execution_count": null,
      "outputs": [
        {
          "output_type": "stream",
          "name": "stdout",
          "text": [
            "Collecting qiskit==1.3.1\n",
            "  Downloading qiskit-1.3.1-cp39-abi3-manylinux_2_17_x86_64.manylinux2014_x86_64.whl.metadata (12 kB)\n",
            "Collecting rustworkx>=0.15.0 (from qiskit==1.3.1)\n",
            "  Downloading rustworkx-0.16.0-cp39-abi3-manylinux_2_17_x86_64.manylinux2014_x86_64.whl.metadata (10 kB)\n",
            "Requirement already satisfied: numpy<3,>=1.17 in /usr/local/lib/python3.11/dist-packages (from qiskit==1.3.1) (1.26.4)\n",
            "Requirement already satisfied: scipy>=1.5 in /usr/local/lib/python3.11/dist-packages (from qiskit==1.3.1) (1.13.1)\n",
            "Requirement already satisfied: sympy>=1.3 in /usr/local/lib/python3.11/dist-packages (from qiskit==1.3.1) (1.13.1)\n",
            "Collecting dill>=0.3 (from qiskit==1.3.1)\n",
            "  Downloading dill-0.3.9-py3-none-any.whl.metadata (10 kB)\n",
            "Requirement already satisfied: python-dateutil>=2.8.0 in /usr/local/lib/python3.11/dist-packages (from qiskit==1.3.1) (2.8.2)\n",
            "Collecting stevedore>=3.0.0 (from qiskit==1.3.1)\n",
            "  Downloading stevedore-5.4.0-py3-none-any.whl.metadata (2.3 kB)\n",
            "Requirement already satisfied: typing-extensions in /usr/local/lib/python3.11/dist-packages (from qiskit==1.3.1) (4.12.2)\n",
            "Collecting symengine<0.14,>=0.11 (from qiskit==1.3.1)\n",
            "  Downloading symengine-0.13.0-cp311-cp311-manylinux_2_17_x86_64.manylinux2014_x86_64.whl.metadata (1.2 kB)\n",
            "Requirement already satisfied: six>=1.5 in /usr/local/lib/python3.11/dist-packages (from python-dateutil>=2.8.0->qiskit==1.3.1) (1.17.0)\n",
            "Collecting pbr>=2.0.0 (from stevedore>=3.0.0->qiskit==1.3.1)\n",
            "  Downloading pbr-6.1.1-py2.py3-none-any.whl.metadata (3.4 kB)\n",
            "Requirement already satisfied: mpmath<1.4,>=1.1.0 in /usr/local/lib/python3.11/dist-packages (from sympy>=1.3->qiskit==1.3.1) (1.3.0)\n",
            "Requirement already satisfied: setuptools in /usr/local/lib/python3.11/dist-packages (from pbr>=2.0.0->stevedore>=3.0.0->qiskit==1.3.1) (75.1.0)\n",
            "Downloading qiskit-1.3.1-cp39-abi3-manylinux_2_17_x86_64.manylinux2014_x86_64.whl (6.7 MB)\n",
            "\u001b[2K   \u001b[90m━━━━━━━━━━━━━━━━━━━━━━━━━━━━━━━━━━━━━━━━\u001b[0m \u001b[32m6.7/6.7 MB\u001b[0m \u001b[31m4.3 MB/s\u001b[0m eta \u001b[36m0:00:00\u001b[0m\n",
            "\u001b[?25hDownloading dill-0.3.9-py3-none-any.whl (119 kB)\n",
            "\u001b[2K   \u001b[90m━━━━━━━━━━━━━━━━━━━━━━━━━━━━━━━━━━━━━━━━\u001b[0m \u001b[32m119.4/119.4 kB\u001b[0m \u001b[31m10.3 MB/s\u001b[0m eta \u001b[36m0:00:00\u001b[0m\n",
            "\u001b[?25hDownloading rustworkx-0.16.0-cp39-abi3-manylinux_2_17_x86_64.manylinux2014_x86_64.whl (2.1 MB)\n",
            "\u001b[2K   \u001b[90m━━━━━━━━━━━━━━━━━━━━━━━━━━━━━━━━━━━━━━━━\u001b[0m \u001b[32m2.1/2.1 MB\u001b[0m \u001b[31m68.1 MB/s\u001b[0m eta \u001b[36m0:00:00\u001b[0m\n",
            "\u001b[?25hDownloading stevedore-5.4.0-py3-none-any.whl (49 kB)\n",
            "\u001b[2K   \u001b[90m━━━━━━━━━━━━━━━━━━━━━━━━━━━━━━━━━━━━━━━━\u001b[0m \u001b[32m49.5/49.5 kB\u001b[0m \u001b[31m4.4 MB/s\u001b[0m eta \u001b[36m0:00:00\u001b[0m\n",
            "\u001b[?25hDownloading symengine-0.13.0-cp311-cp311-manylinux_2_17_x86_64.manylinux2014_x86_64.whl (49.7 MB)\n",
            "\u001b[2K   \u001b[90m━━━━━━━━━━━━━━━━━━━━━━━━━━━━━━━━━━━━━━━━\u001b[0m \u001b[32m49.7/49.7 MB\u001b[0m \u001b[31m13.2 MB/s\u001b[0m eta \u001b[36m0:00:00\u001b[0m\n",
            "\u001b[?25hDownloading pbr-6.1.1-py2.py3-none-any.whl (108 kB)\n",
            "\u001b[2K   \u001b[90m━━━━━━━━━━━━━━━━━━━━━━━━━━━━━━━━━━━━━━━━\u001b[0m \u001b[32m109.0/109.0 kB\u001b[0m \u001b[31m8.7 MB/s\u001b[0m eta \u001b[36m0:00:00\u001b[0m\n",
            "\u001b[?25hInstalling collected packages: symengine, rustworkx, pbr, dill, stevedore, qiskit\n",
            "Successfully installed dill-0.3.9 pbr-6.1.1 qiskit-1.3.1 rustworkx-0.16.0 stevedore-5.4.0 symengine-0.13.0\n"
          ]
        }
      ]
    },
    {
      "cell_type": "code",
      "source": [
        "import qiskit\n",
        "import QuantumRingsLib\n",
        "print (QuantumRingsLib.__version__)"
      ],
      "metadata": {
        "colab": {
          "base_uri": "https://localhost:8080/"
        },
        "id": "Lh1sOr4jEhNz",
        "outputId": "0284790f-eff0-4ddd-c9b2-92e78a7bd4c1"
      },
      "execution_count": null,
      "outputs": [
        {
          "output_type": "stream",
          "name": "stdout",
          "text": [
            "0.9.0\n"
          ]
        }
      ]
    },
    {
      "cell_type": "code",
      "source": [
        "!pip install quantumrings-toolkit-qiskit\n"
      ],
      "metadata": {
        "colab": {
          "base_uri": "https://localhost:8080/"
        },
        "collapsed": true,
        "id": "KJ1xzPf-Eyl_",
        "outputId": "33b85691-23ec-42be-92d2-28a4cd1b8ab2"
      },
      "execution_count": null,
      "outputs": [
        {
          "output_type": "stream",
          "name": "stdout",
          "text": [
            "Collecting quantumrings-toolkit-qiskit\n",
            "  Downloading quantumrings_toolkit_qiskit-0.1.9-py3-none-any.whl.metadata (15 kB)\n",
            "Requirement already satisfied: numpy in /usr/local/lib/python3.11/dist-packages (from quantumrings-toolkit-qiskit) (1.26.4)\n",
            "Requirement already satisfied: qiskit in /usr/local/lib/python3.11/dist-packages (from quantumrings-toolkit-qiskit) (1.3.1)\n",
            "Requirement already satisfied: QuantumRingsLib in /usr/local/lib/python3.11/dist-packages (from quantumrings-toolkit-qiskit) (0.9.11)\n",
            "Requirement already satisfied: rustworkx>=0.15.0 in /usr/local/lib/python3.11/dist-packages (from qiskit->quantumrings-toolkit-qiskit) (0.16.0)\n",
            "Requirement already satisfied: scipy>=1.5 in /usr/local/lib/python3.11/dist-packages (from qiskit->quantumrings-toolkit-qiskit) (1.13.1)\n",
            "Requirement already satisfied: sympy>=1.3 in /usr/local/lib/python3.11/dist-packages (from qiskit->quantumrings-toolkit-qiskit) (1.13.1)\n",
            "Requirement already satisfied: dill>=0.3 in /usr/local/lib/python3.11/dist-packages (from qiskit->quantumrings-toolkit-qiskit) (0.3.9)\n",
            "Requirement already satisfied: python-dateutil>=2.8.0 in /usr/local/lib/python3.11/dist-packages (from qiskit->quantumrings-toolkit-qiskit) (2.8.2)\n",
            "Requirement already satisfied: stevedore>=3.0.0 in /usr/local/lib/python3.11/dist-packages (from qiskit->quantumrings-toolkit-qiskit) (5.4.0)\n",
            "Requirement already satisfied: typing-extensions in /usr/local/lib/python3.11/dist-packages (from qiskit->quantumrings-toolkit-qiskit) (4.12.2)\n",
            "Requirement already satisfied: symengine<0.14,>=0.11 in /usr/local/lib/python3.11/dist-packages (from qiskit->quantumrings-toolkit-qiskit) (0.13.0)\n",
            "Requirement already satisfied: six>=1.5 in /usr/local/lib/python3.11/dist-packages (from python-dateutil>=2.8.0->qiskit->quantumrings-toolkit-qiskit) (1.17.0)\n",
            "Requirement already satisfied: pbr>=2.0.0 in /usr/local/lib/python3.11/dist-packages (from stevedore>=3.0.0->qiskit->quantumrings-toolkit-qiskit) (6.1.1)\n",
            "Requirement already satisfied: mpmath<1.4,>=1.1.0 in /usr/local/lib/python3.11/dist-packages (from sympy>=1.3->qiskit->quantumrings-toolkit-qiskit) (1.3.0)\n",
            "Requirement already satisfied: setuptools in /usr/local/lib/python3.11/dist-packages (from pbr>=2.0.0->stevedore>=3.0.0->qiskit->quantumrings-toolkit-qiskit) (75.1.0)\n",
            "Downloading quantumrings_toolkit_qiskit-0.1.9-py3-none-any.whl (52 kB)\n",
            "\u001b[2K   \u001b[90m━━━━━━━━━━━━━━━━━━━━━━━━━━━━━━━━━━━━━━━━\u001b[0m \u001b[32m52.6/52.6 kB\u001b[0m \u001b[31m2.6 MB/s\u001b[0m eta \u001b[36m0:00:00\u001b[0m\n",
            "\u001b[?25hInstalling collected packages: quantumrings-toolkit-qiskit\n",
            "Successfully installed quantumrings-toolkit-qiskit-0.1.9\n"
          ]
        }
      ]
    },
    {
      "cell_type": "code",
      "source": [
        "import QuantumRingsLib\n",
        "from QuantumRingsLib import QuantumRegister, AncillaRegister, ClassicalRegister, QuantumCircuit\n",
        "from QuantumRingsLib import QuantumRingsProvider\n",
        "from QuantumRingsLib import job_monitor\n",
        "from QuantumRingsLib import JobStatus\n",
        "from matplotlib import pyplot as plt\n",
        "import numpy as np\n",
        "\n",
        "\n",
        "provider = QuantumRingsProvider(\n",
        "    token='rings-128.dnBZkJk839V3JtAtQjfnbT4hi7DvK6RZ',\n",
        "    name='ankitphysics5327@rajdhani.du.ac.in'\n",
        ")\n",
        "backend = provider.get_backend(\"scarlet_quantum_rings\")\n",
        "\n",
        "provider.active_account()"
      ],
      "metadata": {
        "colab": {
          "base_uri": "https://localhost:8080/"
        },
        "id": "Be_WyHUaFHcX",
        "outputId": "7ec70aef-76db-40f4-ac3e-d1608e01887c"
      },
      "execution_count": null,
      "outputs": [
        {
          "output_type": "execute_result",
          "data": {
            "text/plain": [
              "{'name': 'ankitphysics5327@rajdhani.du.ac.in',\n",
              " 'token': 'rings-128.dnBZkJk839V3JtAtQjfnbT4hi7DvK6RZ',\n",
              " 'max_qubits': '128'}"
            ]
          },
          "metadata": {},
          "execution_count": 31
        }
      ]
    },
    {
      "cell_type": "code",
      "source": [
        "from QuantumRingsLib import Parameter, ParameterVector\n",
        "import math"
      ],
      "metadata": {
        "id": "X3KPmwj6J09C"
      },
      "execution_count": null,
      "outputs": []
    },
    {
      "cell_type": "code",
      "source": [
        "import csv\n",
        "from concurrent.futures import ThreadPoolExecutor"
      ],
      "metadata": {
        "id": "zBJD3RVi2SDK"
      },
      "execution_count": null,
      "outputs": []
    },
    {
      "cell_type": "code",
      "source": [
        "def approximate_iqft(qc, qubits, precision_cutoff=2):\n",
        "    n = len(qubits)\n",
        "    for i in range(n):\n",
        "        qc.h(qubits[i])\n",
        "        for j in range(1, min(i, precision_cutoff) + 1):\n",
        "            qc.cu1(-np.pi / (2 ** (i - j + 1)), qubits[j - 1], qubits[i])\n",
        "    qc.barrier()\n",
        "\n"
      ],
      "metadata": {
        "id": "ySebwDqbf5o8"
      },
      "execution_count": null,
      "outputs": []
    },
    {
      "cell_type": "code",
      "source": [
        "def modular_exponentiation_custom(qc, control_qubits, target_qubits, a, N):\n",
        "    \"\"\"\n",
        "    Custom circuit for modular exponentiation using the optimized design.\n",
        "    \"\"\"\n",
        "    n = len(control_qubits)\n",
        "    for i in range(n):\n",
        "        exponent = 2 ** i\n",
        "        mod_exp = pow(a, exponent, N)\n",
        "\n",
        "        if mod_exp != 1:\n",
        "            for j in range(len(target_qubits)):\n",
        "                if (mod_exp >> j) & 1:\n",
        "                    qc.cx(control_qubits[i], target_qubits[j])  # Precomputed control rotations for optimized multiplication\n",
        "\n",
        "    qc.barrier()\n",
        "\n"
      ],
      "metadata": {
        "id": "h3EKm_TCvGPj"
      },
      "execution_count": null,
      "outputs": []
    },
    {
      "cell_type": "code",
      "source": [
        "def plot_histogram(counts, title=''):\n",
        "    fig, ax = plt.subplots(figsize=(10, 7))\n",
        "    plt.xlabel(\"States\")\n",
        "    plt.ylabel(\"Counts\")\n",
        "    mylist = [key for key, val in counts.items() for _ in range(val)]\n",
        "    unique, inverse = np.unique(mylist, return_inverse=True)\n",
        "    bin_counts = np.bincount(inverse)\n",
        "    plt.bar(unique, bin_counts)\n",
        "    plt.title(title)\n",
        "    plt.show()\n"
      ],
      "metadata": {
        "id": "WnYdfK1qvJPe"
      },
      "execution_count": null,
      "outputs": []
    },
    {
      "cell_type": "code",
      "source": [
        "def find_factors(N, a, r):\n",
        "    if r % 2 != 0:\n",
        "        return None, None\n",
        "    factor1 = gcd(pow(a, r // 2) - 1, N)\n",
        "    factor2 = gcd(pow(a, r // 2) + 1, N)\n",
        "    if factor1 in [1, N] or factor2 in [1, N]:\n",
        "        return None, None\n",
        "    return factor1, factor2\n"
      ],
      "metadata": {
        "id": "NiyKloU6cHOR"
      },
      "execution_count": null,
      "outputs": []
    },
    {
      "cell_type": "code",
      "source": [
        "def initialize_circuit(bit_size):\n",
        "    control_qubits_count = bit_size + 2  # Add extra qubits for precision\n",
        "    num_qubits = control_qubits_count + bit_size // 2 + 2\n",
        "\n",
        "    q = QuantumRegister(num_qubits, 'q')\n",
        "    c = ClassicalRegister(control_qubits_count, 'c')\n",
        "    qc = QuantumCircuit(q, c)\n",
        "\n",
        "    return qc, q, c\n",
        "\n"
      ],
      "metadata": {
        "id": "rRfEbVVvvwvm"
      },
      "execution_count": null,
      "outputs": []
    },
    {
      "cell_type": "code",
      "source": [
        "# Superposition Creation\n",
        "def create_superposition(qc, control_qubits):\n",
        "    for qubit in control_qubits:\n",
        "        qc.h(qubit)\n",
        "    qc.barrier()\n"
      ],
      "metadata": {
        "id": "O7oXJeUev0q5"
      },
      "execution_count": null,
      "outputs": []
    },
    {
      "cell_type": "code",
      "source": [
        "import time"
      ],
      "metadata": {
        "id": "zpkwIpgfO3z1"
      },
      "execution_count": null,
      "outputs": []
    },
    {
      "cell_type": "code",
      "source": [
        "def measure_and_execute(qc, control_qubits, classical_bits, shots=1024):\n",
        "    start_time = time.time()\n",
        "\n",
        "    for i in range(min(len(control_qubits), len(classical_bits))):\n",
        "        qc.measure(control_qubits[i], classical_bits[i])\n",
        "\n",
        "    job = backend.run(qc, shots=shots)\n",
        "    job_monitor(job)\n",
        "    result = job.result()\n",
        "\n",
        "    execution_time = time.time() - start_time\n",
        "    counts = result.get_counts()\n",
        "\n",
        "    return counts, execution_time\n",
        "\n",
        "\n"
      ],
      "metadata": {
        "id": "SoHYNrrJwQCv"
      },
      "execution_count": null,
      "outputs": []
    },
    {
      "cell_type": "code",
      "source": [
        "def shors_algorithm_and_display_results(bit_size, a=7):\n",
        "    \"\"\"\n",
        "    Executes Shor's algorithm and displays results directly in Colab output.\n",
        "    \"\"\"\n",
        "    N = semiprimes[bit_size]\n",
        "    qc, q, c = initialize_circuit(bit_size)\n",
        "\n",
        "    control_qubits = [q[i] for i in range(bit_size)]\n",
        "    target_qubits = [q[j] for j in range(bit_size, len(q))]\n",
        "\n",
        "    create_superposition(qc, control_qubits)\n",
        "    qc.x(len(q) - 1)\n",
        "    modular_exponentiation_custom(qc, control_qubits, target_qubits, a, N)\n",
        "    approximate_iqft(qc, control_qubits)\n",
        "\n",
        "    counts, execution_time = measure_and_execute(qc, control_qubits, c)\n",
        "    most_common_state = max(counts, key=counts.get)\n",
        "    period_guess = int(most_common_state, 2)\n",
        "    f1, f2 = find_factors(N, a, period_guess)\n",
        "\n",
        "    if f1 and f2:\n",
        "        print(\"✅ **Results:**\")\n",
        "        print(f\"- **Semiprime (N)**: {N}\")\n",
        "        print(f\"- **Factors**: {f1}, {f2}\")\n",
        "        print(f\"- **Execution Time**: {execution_time:.2f} seconds\")\n",
        "        print(f\"- **Gate Operations**: Optimized and Reduced\")\n",
        "        print(f\"- **Qubits Used**: \")\n",
        "    else:\n",
        "        print(f\"❌ Failed to factor {N}, rerun the quantum algorithm.\")\n"
      ],
      "metadata": {
        "id": "49SXDL_JT_fC"
      },
      "execution_count": null,
      "outputs": []
    },
    {
      "cell_type": "code",
      "source": [
        "from semiprimes import semiprimes"
      ],
      "metadata": {
        "id": "h31MQsPMxREF"
      },
      "execution_count": null,
      "outputs": []
    },
    {
      "cell_type": "code",
      "source": [
        "import csv\n",
        "import time\n",
        "from math import gcd\n",
        "\n",
        "# Logging the results into a CSV file\n",
        "def log_results_to_csv(results, filename=\"shors_results.csv\"):\n",
        "    \"\"\"\n",
        "    Logs the factors, execution time, gate operations, and qubit usage into a CSV file.\n",
        "    \"\"\"\n",
        "    keys = results[0].keys()  # Use keys from the first dictionary to create column headers\n",
        "    with open(filename, 'w', newline='') as file:\n",
        "        writer = csv.DictWriter(file, fieldnames=keys)\n",
        "        writer.writeheader()\n",
        "        writer.writerows(results)\n",
        "\n",
        "# Example to collect results from each run and store in a list\n",
        "def shors_algorithm_and_display_results(bit_size, a=7):\n",
        "    \"\"\"\n",
        "    Executes Shor's algorithm and displays results directly in Colab output.\n",
        "    \"\"\"\n",
        "    N = semiprimes[bit_size]\n",
        "    qc, q, c = initialize_circuit(bit_size)\n",
        "\n",
        "    control_qubits = [q[i] for i in range(bit_size)]\n",
        "    target_qubits = [q[j] for j in range(bit_size, len(q))]\n",
        "\n",
        "    create_superposition(qc, control_qubits)\n",
        "    qc.x(len(q) - 1)\n",
        "    modular_exponentiation_custom(qc, control_qubits, target_qubits, a, N)\n",
        "    approximate_iqft(qc, control_qubits)\n",
        "\n",
        "    counts, execution_time = measure_and_execute(qc, control_qubits, c)\n",
        "    most_common_state = max(counts, key=counts.get)\n",
        "    period_guess = int(most_common_state, 2)\n",
        "    f1, f2 = find_factors(N, a, period_guess)\n",
        "\n",
        "    if f1 and f2:\n",
        "        print(\"✅ **Results:**\")\n",
        "        print(f\"- **Semiprime (N)**: {N}\")\n",
        "        print(f\"- **Factors**: {f1}, {f2}\")\n",
        "        print(f\"- **Execution Time**: {execution_time:.2f} seconds\")\n",
        "        print(f\"- **Gate Operations**: Optimized and Reduced\")\n",
        "        print(f\"- **Qubits Used**: \")\n",
        "    else:\n",
        "        print(f\"❌ Failed to factor {N}, rerun the quantum algorithm.\")\n",
        "\n"
      ],
      "metadata": {
        "id": "3BNA5q3AdPjS"
      },
      "execution_count": null,
      "outputs": []
    },
    {
      "cell_type": "code",
      "source": [
        "shors_algorithm_and_display_results(20)\n"
      ],
      "metadata": {
        "id": "DyMLxcInUpOW"
      },
      "execution_count": null,
      "outputs": []
    },
    {
      "cell_type": "code",
      "source": [
        "for bit_size in [16, 18, 20]:\n",
        "    print(f\"Running Shor's Algorithm for {bit_size}-bit semiprime...\")\n",
        "    display_results_in_colab(bit_size)\n"
      ],
      "metadata": {
        "id": "waK0eJewwKiV"
      },
      "execution_count": null,
      "outputs": []
    },
    {
      "cell_type": "code",
      "source": [
        "semiprimes[8]"
      ],
      "metadata": {
        "colab": {
          "base_uri": "https://localhost:8080/"
        },
        "id": "pjZx1Dg8Org-",
        "outputId": "cb48534d-3c5d-4deb-eff8-4a3b1089a5ae"
      },
      "execution_count": null,
      "outputs": [
        {
          "output_type": "execute_result",
          "data": {
            "text/plain": [
              "143"
            ]
          },
          "metadata": {},
          "execution_count": 6
        }
      ]
    },
    {
      "cell_type": "code",
      "source": [
        "from concurrent.futures import ThreadPoolExecutor, as_completed, TimeoutError\n",
        "\n",
        "# Parallel Execution for Multiple Semiprimes\n",
        "def log_results():\n",
        "    bit_sizes = [8, 10, 12, 14, 16, 24, 32, 64]\n",
        "    logs = []\n",
        "\n",
        "    with ThreadPoolExecutor() as executor:\n",
        "        futures = [executor.submit(shors_algorithm, bit_size) for bit_size in bit_sizes]\n",
        "\n",
        "        for future in futures:\n",
        "            counts, execution_time, N, a = future.result()\n",
        "            most_common_state = max(counts, key=counts.get)\n",
        "            period_guess = int(most_common_state, 2)\n",
        "            f1, f2 = find_factors(N, a, period_guess)\n",
        "\n",
        "            logs.append({\n",
        "                \"Bit Size\": bit_size,\n",
        "                \"Semiprime\": N,\n",
        "                \"Factors\": f\"{f1}, {f2}\" if f1 and f2 else \"Failed\",\n",
        "                \"Execution Time (s)\": execution_time\n",
        "            })\n",
        "\n",
        "    return logs"
      ],
      "metadata": {
        "id": "54JlWRVFxXR0"
      },
      "execution_count": null,
      "outputs": []
    },
    {
      "cell_type": "code",
      "source": [
        "from math import gcd\n",
        "\n",
        "def find_factors(N, a, r):\n",
        "    # Step 1: Ensure r is valid\n",
        "    if r % 2 != 0:\n",
        "        return None, None  # Period must be even\n",
        "\n",
        "    # Step 2: Compute the GCDs\n",
        "    factor1 = gcd(pow(a, r // 2) - 1, N)\n",
        "    factor2 = gcd(pow(a, r // 2) + 1, N)\n",
        "\n",
        "    # Step 3: Check if factors are non-trivial\n",
        "    if factor1 in [1, N] or factor2 in [1, N]:\n",
        "        return None, None  # Trivial factors found, rerun the quantum part\n",
        "\n",
        "    return factor1, factor2\n",
        "\n"
      ],
      "metadata": {
        "id": "mSP2kThFuj3F"
      },
      "execution_count": null,
      "outputs": []
    },
    {
      "cell_type": "code",
      "source": [
        "from math import gcd\n",
        "\n",
        "# Try different values of a\n",
        "for a in range(2, N):\n",
        "    if gcd(a, N) != 1:\n",
        "        continue  # Skip if not coprime with N\n",
        "\n",
        "    # Assume period found from quantum circuit\n",
        "    r = 44  # Placeholder; you'd get this from actual measurements\n",
        "\n",
        "    if pow(a, r, N) != 1 or r % 2 != 0:\n",
        "        continue  # Skip if period is invalid\n",
        "\n",
        "    f1, f2 = find_factors(N, a, r)\n",
        "    if f1 and f2:\n",
        "        print(f\"Factors of {N} are: {f1} and {f2}\")\n",
        "        break\n",
        "else:\n",
        "    print(\"Failed with all bases. Rerun the quantum algorithm.\")\n",
        "\n",
        "\n"
      ],
      "metadata": {
        "id": "LRO8XZlYvQb8"
      },
      "execution_count": null,
      "outputs": []
    }
  ]
}